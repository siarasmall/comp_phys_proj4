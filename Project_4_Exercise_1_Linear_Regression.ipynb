{
  "cells": [
    {
      "cell_type": "markdown",
      "metadata": {
        "id": "u6vs9M3lPTJO"
      },
      "source": [
        "# ML Exercise 1: Linear Regression\n",
        "\n",
        "This notebook is to help you get started on Exercise 1 for Project 4 on Machine Learning.\n",
        "\n",
        "Exercise 1 covers the material we discussed in the Intro to ML presentation which you can find [on this Canvas page](https://canvas.tufts.edu/courses/62563/pages/intro-to-ml-slides-and-exercise-materials?module_item_id=1651708).\n",
        "\n",
        "In this exercise your group is being asked to implement a linear regression model.  \n",
        "\n",
        "The task is to estimate profits for opening a new food truck based on the population of the city.  You are provided data for the profit for past trucks along with the population of the cities in which they operated.\n",
        "\n",
        "The objectives for this exercise is to:\n",
        "* Import data, text file with (x,y) pairs\n",
        "* Create arrays X, Y, theta\n",
        "* [Result 1] Calculate theta using Normal Equation\n",
        "* [Result 2] Plot data points and model curve\n",
        "* [Result 3] Implement gradient solver - compare to Normal Equation solution\n",
        "* [Result 4] Plot loss and gradient norm vs. iteration step\n",
        "* [Optional Study] Plot path of 2d parameter values during gradient descent"
      ]
    },
    {
      "cell_type": "markdown",
      "metadata": {
        "id": "yoodgANRPTJQ"
      },
      "source": [
        "## 1.1 Loading the Data\n",
        "\n",
        "You can download the data the following GoogleDrive [link](https://drive.google.com/file/d/1Duglp2NZQQWJ4j1iUPZmAAcFKEUT0Jvi/view?usp=sharing).\n",
        "\n",
        "In the rest that follows, we assume that the file, `ex1data.txt`, has been uploaded into `/content/drive/sample_data/`.\n",
        "\n",
        "The data is in a very simple CSV format.\n",
        "\n",
        "The first column of data is the population in 10K people.  The second column is the profit in 10K dollars.\n",
        "\n",
        "\n",
        "Here is an example of the first bit of the file:\n",
        "\n",
        "```\n",
        "6.1101,17.592\n",
        "5.5277,9.1302\n",
        "8.5186,13.662\n",
        "7.0032,11.854\n",
        "5.8598,6.8233\n",
        "8.3829,11.886\n",
        "7.4764,4.3483\n",
        "8.5781,12\n",
        "6.4862,6.5987\n",
        "5.0546,3.8166\n",
        "...\n",
        "```\n"
      ]
    },
    {
      "cell_type": "markdown",
      "source": [
        "Import the packages."
      ],
      "metadata": {
        "id": "obbGbs-yP0IY"
      }
    },
    {
      "cell_type": "code",
      "execution_count": 2,
      "metadata": {
        "id": "NsvO6aInPTJR"
      },
      "outputs": [],
      "source": [
        "import numpy as np\n",
        "import matplotlib.pyplot as plt\n",
        "import numpy as np\n",
        "%matplotlib inline"
      ]
    },
    {
      "cell_type": "code",
      "execution_count": 8,
      "metadata": {
        "id": "CJlwR_DNPTJS",
        "colab": {
          "base_uri": "https://localhost:8080/"
        },
        "outputId": "18065a6b-500b-459f-df61-d41628745c63"
      },
      "outputs": [
        {
          "output_type": "stream",
          "name": "stdout",
          "text": [
            "shape:  (97, 2)\n"
          ]
        }
      ],
      "source": [
        "# we use numpy's import function\n",
        "from numpy import genfromtxt\n",
        "my_data = genfromtxt('sample_data/ex1data1.txt', delimiter=',')\n",
        "\n",
        "print(\"shape of numpy array (expected to be (97,2)): \",my_data.shape)"
      ]
    },
    {
      "cell_type": "code",
      "source": [
        "# Example of slicing an array\n",
        "\n",
        "# if you want only the population data column in the array, we can slice it out\n",
        "population_data = my_data[:,0] # take slice of array involving all rows (':') and only the 0-th column\n",
        "print(\"population_data.shape=\",population_data.shape) # should be (97,) which is a one-dimensional array\n",
        "\n",
        "# likewise, this is how you get the profit values, which is the 1-indexed column\n",
        "profit_data = my_data[:,1]\n",
        "print(\"profit_data.shape=\",profit_data.shape)"
      ],
      "metadata": {
        "colab": {
          "base_uri": "https://localhost:8080/"
        },
        "id": "78WEn9WYF817",
        "outputId": "213ed2f5-53b8-4398-bb65-9a26f5e27145"
      },
      "execution_count": 9,
      "outputs": [
        {
          "output_type": "stream",
          "name": "stdout",
          "text": [
            "population_data.shape= (97,)\n",
            "profit_data.shape= (97,)\n"
          ]
        }
      ]
    },
    {
      "cell_type": "code",
      "source": [
        "# visualizing the data\n",
        "plt.scatter(population_data, profit_data, marker='x', c='r')\n",
        "plt.xlabel('Population of City in 10,000s')\n",
        "plt.ylabel('Profit in $10,000s');"
      ],
      "metadata": {
        "colab": {
          "base_uri": "https://localhost:8080/",
          "height": 449
        },
        "id": "TL1JVukOT9Ql",
        "outputId": "4904ddb1-cce4-448c-847c-32d9ee10cb0d"
      },
      "execution_count": 10,
      "outputs": [
        {
          "output_type": "display_data",
          "data": {
            "text/plain": [
              "<Figure size 640x480 with 1 Axes>"
            ],
            "image/png": "[encoded data removed]"
          },
          "metadata": {}
        }
      ]
    }
  ],
  "metadata": {
    "kernelspec": {
      "display_name": "Python 3",
      "language": "python",
      "name": "python3"
    },
    "language_info": {
      "codemirror_mode": {
        "name": "ipython",
        "version": 3
      },
      "file_extension": ".py",
      "mimetype": "text/x-python",
      "name": "python",
      "nbconvert_exporter": "python",
      "pygments_lexer": "ipython3",
      "version": "3.7.3"
    },
    "colab": {
      "provenance": [],
      "collapsed_sections": [
        "PeT1nTwUPTJc"
      ]
    }
  },
  "nbformat": 4,
  "nbformat_minor": 0
}
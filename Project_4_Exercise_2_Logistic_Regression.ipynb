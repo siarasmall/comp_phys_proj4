{
  "cells": [
    {
      "cell_type": "markdown",
      "metadata": {
        "id": "yuCZqdIBppNV"
      },
      "source": [
        "# Programming Exercise 2: Classification using Logistic Regression and Neural Networks\n",
        "\n",
        "> In this exercise, you will implement logistic regression and apply it to two different datasets."
      ]
    },
    {
      "cell_type": "markdown",
      "metadata": {
        "id": "W2bYrQApppNX"
      },
      "source": [
        "## 1. Logistic Regression\n",
        "\n",
        "A video game designer is trying to find a way to dynamically calibrate the difficulty of a final \"boss fight\" at the end of a level.  \n",
        "\n",
        "The particular task is to use scores from two previous challenges to determine if a player is likely to pass the final challenge.\n",
        "\n",
        "Player testing has provided a data set.\n",
        "The data contains for each player, the player's two scores and whether or not the final challenge was completed successfully."
      ]
    },
    {
      "cell_type": "code",
      "source": [
        "import numpy as np\n",
        "import matplotlib.pyplot as plt"
      ],
      "metadata": {
        "id": "Vo0vEQxHJQ3V"
      },
      "execution_count": null,
      "outputs": []
    },
    {
      "cell_type": "markdown",
      "source": [
        "## 1.1 Load the data and visualize\n",
        "\n",
        "We will interface with the data in a similar fashion to Exercise 1.\n",
        "\n",
        "The input data file `ex2data.txt` can be downloaded from this [link](https://drive.google.com/file/d/1ox7K4_wSqvUPgPyIDB3GwoFGFTQNIbPi/view?usp=drive_link).\n",
        "\n",
        "As this is a co-lab notebook, we assume that the file has been uploaded to `/content/sample_data/`. Use the folder button on the left-hand side to navigate the instance's file system folders."
      ],
      "metadata": {
        "id": "h9U3sx9xuJ7H"
      }
    },
    {
      "cell_type": "code",
      "source": [
        "# we use numpy's import function\n",
        "from numpy import genfromtxt\n",
        "data = genfromtxt('sample_data/ex2data1.txt', delimiter=',')\n",
        "\n",
        "print(\"shape of numpy array (expected to be (100,3)): \",data.shape)"
      ],
      "metadata": {
        "colab": {
          "base_uri": "https://localhost:8080/"
        },
        "id": "USoRvTfcsoze",
        "outputId": "d7090251-b3b2-4db6-8884-1d196fc4ed60"
      },
      "execution_count": null,
      "outputs": [
        {
          "output_type": "stream",
          "name": "stdout",
          "text": [
            "shape of numpy array (expected to be (100,3)):  (100, 3)\n"
          ]
        }
      ]
    },
    {
      "cell_type": "code",
      "source": [
        "# let's plot the data for the two classes.\n",
        "\n",
        "# first we need to separate the score of passing players from non-passing players\n",
        "# we can create an array with each row being true or false based on the flag\n",
        "\n",
        "# slice out the 3rd column, indicating if passed (=1) or failed(=0)\n",
        "boss_result = data[:,2] # I want all the rows (:) but only the second column\n",
        "print(boss_result.shape)\n",
        "\n",
        "player_passed = boss_result==1 # this test is run on each row of boss_result\n",
        "\n",
        "# now we can filter the scores for the passing players\n",
        "passing_scores = data[player_passed[:],:2] # select only rows for passing players\n",
        "print(passing_scores.shape)\n",
        "\n",
        "# and the scores for the failing players\n",
        "failing_scores = data[~player_passed[:],:2] # selet rows for failing players\n",
        "print(failing_scores.shape)\n",
        "\n",
        "plt.scatter(passing_scores[:,0], passing_scores[:,1], s=10, c='r')\n",
        "plt.scatter(failing_scores[:,0], failing_scores[:,1], s=10, c='b')\n",
        "plt.show()"
      ],
      "metadata": {
        "colab": {
          "base_uri": "https://localhost:8080/",
          "height": 482
        },
        "id": "Zgzizr7dtTV_",
        "outputId": "b36cd07c-fb70-46ba-cc5a-e0e7c4e271c8"
      },
      "execution_count": null,
      "outputs": [
        {
          "output_type": "stream",
          "name": "stdout",
          "text": [
            "(100,)\n",
            "(60, 2)\n",
            "(40, 2)\n"
          ]
        },
        {
          "output_type": "display_data",
          "data": {
            "text/plain": [
              "<Figure size 640x480 with 1 Axes>"
            ],
            "image/png": "[encoded data removed]"
          },
          "metadata": {}
        }
      ]
    },
    {
      "cell_type": "code",
      "execution_count": null,
      "metadata": {
        "id": "RDaTs0tmppNZ",
        "colab": {
          "base_uri": "https://localhost:8080/",
          "height": 447
        },
        "outputId": "848a0213-dc6b-4f96-a008-f076d38a35ae"
      },
      "outputs": [
        {
          "output_type": "stream",
          "name": "stdout",
          "text": [
            "(100,)\n"
          ]
        },
        {
          "output_type": "display_data",
          "data": {
            "text/plain": [
              "<Figure size 640x480 with 1 Axes>"
            ],
            "image/png": "[encoded data removed]"
          },
          "metadata": {}
        }
      ],
      "source": [
        "# 1D Logistic regression\n",
        "# to start, we can turn this into a 1D logistic regression problem\n",
        "\n",
        "# Add the numbers together\n",
        "score1 = data[:,0]\n",
        "score2 = data[:,1]\n",
        "result = data[:,2]\n",
        "ave_score = 0.5*(score1 + score2)\n",
        "print(ave_score.shape)\n",
        "\n",
        "ave_score_passing = ave_score[player_passed]\n",
        "ave_score_failing = ave_score[~player_passed]\n",
        "result_passing = result[player_passed]\n",
        "result_failing = result[~player_passed]\n",
        "\n",
        "plt.scatter(ave_score_passing, result_passing, s=20, c='r')\n",
        "plt.scatter(ave_score_failing, result_failing, s=20, c='b')\n",
        "plt.show()\n"
      ]
    },
    {
      "cell_type": "code",
      "source": [
        "def logistic_fn( x, theta):\n",
        "  score = theta[0] + theta[1]*x\n",
        "  return 1.0/(1+np.exp(-score))\n"
      ],
      "metadata": {
        "id": "GT0YzWXyt0qg"
      },
      "execution_count": null,
      "outputs": []
    },
    {
      "cell_type": "code",
      "source": [
        "# eyeballing values\n",
        "th = np.array((-65.0, 1.0))\n",
        "print(th.shape)\n",
        "pred = logistic_fn(ave_score, th)\n",
        "print(pred.shape)"
      ],
      "metadata": {
        "colab": {
          "base_uri": "https://localhost:8080/"
        },
        "id": "0IjnxvSWphJr",
        "outputId": "7230da84-8d40-4fcd-c277-f6924a147186"
      },
      "execution_count": null,
      "outputs": [
        {
          "output_type": "stream",
          "name": "stdout",
          "text": [
            "(2,)\n",
            "(100,)\n"
          ]
        }
      ]
    },
    {
      "cell_type": "code",
      "source": [
        "plt.scatter(ave_score_passing, result_passing, s=20, c='r')\n",
        "plt.scatter(ave_score_failing, result_failing, s=20, c='b')\n",
        "plt.scatter(ave_score, pred, s=5, c='g')\n",
        "plt.show()\n"
      ],
      "metadata": {
        "colab": {
          "base_uri": "https://localhost:8080/",
          "height": 430
        },
        "id": "m4aROfIAqZCq",
        "outputId": "e6253883-c516-40d3-a48d-dca7e6a77fc5"
      },
      "execution_count": null,
      "outputs": [
        {
          "output_type": "display_data",
          "data": {
            "text/plain": [
              "<Figure size 640x480 with 1 Axes>"
            ],
            "image/png": "[encoded data removed]"
          },
          "metadata": {}
        }
      ]
    },
    {
      "cell_type": "markdown",
      "metadata": {
        "id": "xSQuaozvppNe"
      },
      "source": [
        "## 2. Regularized Logistic Regression\n",
        "\n",
        "> In this part of the exercise, you will implement regularized logistic regression to predict whether microchips from a fabrication plant passes quality assur- ance (QA). During QA, each microchip goes through various tests to ensure it is functioning correctly.\n",
        "Suppose you are the product manager of the factory and you have the test results for some microchips on two different tests. From these two tests, you would like to determine whether the microchips should be accepted or rejected. To help you make the decision, you have a dataset of test results on past microchips, from which you can build a logistic regression model.\n",
        "\n",
        "\n",
        "The input data file `ex2data2.txt` can be downloaded from this [link]().\n",
        "\n",
        "As this is a co-lab notebook, we assume that the file has been uploaded to `/content/sample_data/`. Use the folder button on the left-hand side to navigate the instance's file system folders.\n",
        "### 2.1 Visualizing the Data\n",
        "\n",
        "You can see that a simple line is not a good model for regressing the data."
      ]
    },
    {
      "cell_type": "code",
      "execution_count": null,
      "metadata": {
        "id": "6pstWkL0ppNf",
        "colab": {
          "base_uri": "https://localhost:8080/"
        },
        "outputId": "480551eb-5e5a-478f-c997-caf46bbaba76"
      },
      "outputs": [
        {
          "output_type": "stream",
          "name": "stdout",
          "text": [
            "shape of numpy array (expected to be (100,3)):  (100, 3)\n"
          ]
        }
      ],
      "source": [
        "# we use numpy's import function\n",
        "from numpy import genfromtxt\n",
        "data2 = genfromtxt('sample_data/ex2data2.txt', delimiter=',')\n",
        "\n",
        "print(\"shape of numpy array (expected to be (100,3)): \",data.shape)"
      ]
    },
    {
      "cell_type": "code",
      "execution_count": null,
      "metadata": {
        "id": "_0pZvOl2ppNf",
        "outputId": "0ee7c238-0477-4bd7-c5a5-439067fa2f7f",
        "colab": {
          "base_uri": "https://localhost:8080/",
          "height": 482
        }
      },
      "outputs": [
        {
          "output_type": "stream",
          "name": "stdout",
          "text": [
            "(118,)\n",
            "(60, 2)\n",
            "(60, 2)\n"
          ]
        },
        {
          "output_type": "display_data",
          "data": {
            "text/plain": [
              "<Figure size 640x480 with 1 Axes>"
            ],
            "image/png": "[encoded data removed]"
          },
          "metadata": {}
        }
      ],
      "source": [
        "# slice out the 3rd column, indicating if passed (=1) or failed(=0)\n",
        "chip_result = data2[:,2] # I want all the rows (:) but only the second column\n",
        "print(chip_result.shape)\n",
        "\n",
        "chip_passed = chip_result==1 # this test is run on each row of boss_result\n",
        "\n",
        "# now we can filter the scores for the passing players\n",
        "chip_passing_scores = data2[chip_passed[:],:2] # select only rows for passing players\n",
        "print(passing_scores.shape)\n",
        "\n",
        "# and the scores for the failing players\n",
        "chip_failing_scores = data2[~chip_passed[:],:2] # selet rows for failing players\n",
        "print(chip_failing_scores.shape)\n",
        "\n",
        "plt.scatter(chip_passing_scores[:,0], chip_passing_scores[:,1], s=10, c='r')\n",
        "plt.scatter(chip_failing_scores[:,0], chip_failing_scores[:,1], s=10, c='b')\n",
        "plt.show()"
      ]
    },
    {
      "cell_type": "markdown",
      "metadata": {
        "id": "IO43vshHppNf"
      },
      "source": [
        "### 2.2 Feature Mapping\n",
        "\n",
        "> One way to fit the data better is to create more features from each data point. We will map the features into all polynomial terms of $x_1$ and $x_2$ up to the sixth power. As a result of this mapping, our vector of two features (the scores on two QA tests) has been transformed into a 28-dimensional vector. A logistic regression classifier trained on this higher-dimension feature vector will have a more complex decision boundary and will appear nonlinear when drawn in our 2-dimensional plot."
      ]
    },
    {
      "cell_type": "code",
      "source": [],
      "metadata": {
        "id": "NdU17Q-Zsl0v"
      },
      "execution_count": null,
      "outputs": []
    },
    {
      "cell_type": "markdown",
      "source": [
        "## 2.2 Regularization\n",
        "\n",
        "Because we have so many parameters now, we add to the loss function some terms based on the parameter values.\n",
        "\n",
        "One common regularization is to add a loss term to keep the values small.\n",
        "\n",
        "Add to the loss function the sum of the parameter values squared -- this wants to keep the value of each parameter near zero.\n",
        "\n",
        "Another is to add the sum of the absolute value of each parameter to the loss function.  This has a slighly different effect, which is to keep the parameter values sparse: the number of parameters with large values is kept low."
      ],
      "metadata": {
        "id": "oLY0eEuIsnj-"
      }
    },
    {
      "cell_type": "code",
      "source": [],
      "metadata": {
        "id": "eCP7joiotcbm"
      },
      "execution_count": null,
      "outputs": []
    },
    {
      "cell_type": "markdown",
      "source": [
        "## Neural nework classification\n",
        "\n",
        "If you get to it, you can try a neural network. But we'll cover this next Tuesday -- and then start our projects."
      ],
      "metadata": {
        "id": "f1ciuEKLtf2X"
      }
    },
    {
      "cell_type": "code",
      "source": [],
      "metadata": {
        "id": "yC4sXB04tobF"
      },
      "execution_count": null,
      "outputs": []
    }
  ],
  "metadata": {
    "kernelspec": {
      "display_name": "Python 3",
      "language": "python",
      "name": "python3"
    },
    "language_info": {
      "codemirror_mode": {
        "name": "ipython",
        "version": 3
      },
      "file_extension": ".py",
      "mimetype": "text/x-python",
      "name": "python",
      "nbconvert_exporter": "python",
      "pygments_lexer": "ipython3",
      "version": "3.7.3"
    },
    "colab": {
      "provenance": []
    }
  },
  "nbformat": 4,
  "nbformat_minor": 0
}